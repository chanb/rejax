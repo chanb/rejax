{
 "cells": [
  {
   "cell_type": "code",
   "execution_count": null,
   "id": "5aeab727",
   "metadata": {},
   "outputs": [],
   "source": [
    "import dill\n",
    "\n",
    "import jax\n",
    "import numpy as np"
   ]
  },
  {
   "cell_type": "code",
   "execution_count": null,
   "id": "6a25d99d",
   "metadata": {},
   "outputs": [],
   "source": [
    "data = dill.load(open(\"/Users/chanb/research/ualberta/sandbox/rejax/checkpoints/CartPole-v1_dqn_0.pkl\", \"rb\"))"
   ]
  },
  {
   "cell_type": "code",
   "execution_count": null,
   "id": "2ae33290",
   "metadata": {},
   "outputs": [],
   "source": [
    "obss = data.obs.reshape((1, 10, -1, 4))"
   ]
  },
  {
   "cell_type": "code",
   "execution_count": null,
   "id": "0a140247",
   "metadata": {},
   "outputs": [],
   "source": [
    "data = jax.tree_util.tree_map(\n",
    "    lambda x: x.reshape((1, 10, -1, *x.shape[2:])),\n",
    "    data,\n",
    ")"
   ]
  },
  {
   "cell_type": "code",
   "execution_count": null,
   "id": "a96b569f",
   "metadata": {},
   "outputs": [],
   "source": [
    "data.obs.shape, data.action.shape, data.reward.shape, data.done.shape, data.next_obs.shape"
   ]
  },
  {
   "cell_type": "code",
   "execution_count": null,
   "id": "9e1ef7c1",
   "metadata": {},
   "outputs": [],
   "source": []
  }
 ],
 "metadata": {
  "kernelspec": {
   "display_name": ".venv",
   "language": "python",
   "name": "python3"
  },
  "language_info": {
   "codemirror_mode": {
    "name": "ipython",
    "version": 3
   },
   "file_extension": ".py",
   "mimetype": "text/x-python",
   "name": "python",
   "nbconvert_exporter": "python",
   "pygments_lexer": "ipython3",
   "version": "3.10.14"
  }
 },
 "nbformat": 4,
 "nbformat_minor": 5
}
