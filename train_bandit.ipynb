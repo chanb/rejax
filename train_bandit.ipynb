{
 "cells": [
  {
   "cell_type": "code",
   "execution_count": 1,
   "id": "b257af34",
   "metadata": {},
   "outputs": [],
   "source": [
    "from src.rejax.envs.bernoulli_bandit import BernoulliBandit, EnvParams\n",
    "from rejax import get_algo\n",
    "from rejax.evaluate import evaluate\n",
    "\n",
    "import _pickle as pickle\n",
    "import jax\n",
    "import jax.numpy as jnp\n",
    "import matplotlib.pyplot as plt\n",
    "import numpy as np\n",
    "import yaml"
   ]
  },
  {
   "cell_type": "code",
   "execution_count": 2,
   "id": "19ef8fb6",
   "metadata": {},
   "outputs": [],
   "source": [
    "config_path = \"/Users/chanb/research/ualberta/sandbox/rejax/configs/custom/bandit.yaml\"\n",
    "\n",
    "with open(config_path, \"r\") as f:\n",
    "    config = yaml.safe_load(f.read())"
   ]
  },
  {
   "cell_type": "code",
   "execution_count": 3,
   "id": "f8ebb324",
   "metadata": {},
   "outputs": [],
   "source": [
    "algo_name = \"ucb\"\n",
    "seed_id = 42\n",
    "num_seeds = 10000\n",
    "num_arms = 5\n",
    "\n",
    "key = jax.random.PRNGKey(seed_id)\n",
    "keys = jax.random.split(key, num_seeds)\n",
    "config = config[algo_name]"
   ]
  },
  {
   "cell_type": "code",
   "execution_count": 4,
   "id": "de994d76",
   "metadata": {},
   "outputs": [
    {
     "data": {
      "text/plain": [
       "{'agent_kwargs': {'confidence': 1.0},\n",
       " 'total_timesteps': 10000,\n",
       " 'eval_freq': 50,\n",
       " 'buffer_size': 10000}"
      ]
     },
     "execution_count": 4,
     "metadata": {},
     "output_type": "execute_result"
    }
   ],
   "source": [
    "config"
   ]
  },
  {
   "cell_type": "code",
   "execution_count": 5,
   "id": "7930724f",
   "metadata": {},
   "outputs": [],
   "source": [
    "env = BernoulliBandit()\n",
    "config[\"env\"] = env\n",
    "\n",
    "env_params = jax.random.beta(key, a=0.2, b=0.2, shape=(num_seeds, num_arms))\n",
    "\n",
    "algo_cls = get_algo(algo_name)\n",
    "algo = jax.vmap(\n",
    "    lambda x: algo_cls.create(\n",
    "        **config,\n",
    "        env_params=EnvParams(reward_probs=x),\n",
    "    )\n",
    ")(\n",
    "    env_params\n",
    ")\n",
    "\n",
    "\n",
    "def eval_callback(algo, ts, rng):\n",
    "    act = algo.make_act(ts)\n",
    "    max_steps = algo.env_params.max_steps_in_episode\n",
    "    return evaluate(act, rng, env, algo.env_params, 200, max_steps)\n",
    "\n",
    "algo = algo.replace(\n",
    "    eval_callback=eval_callback\n",
    ")"
   ]
  },
  {
   "cell_type": "code",
   "execution_count": 6,
   "id": "598e400a",
   "metadata": {},
   "outputs": [
    {
     "data": {
      "text/plain": [
       "Array([[9.8228019e-01, 9.9999964e-01, 8.2774550e-01, 8.4435036e-03,\n",
       "        9.0748203e-01],\n",
       "       [3.3898753e-01, 4.3795776e-01, 5.6661258e-05, 1.4348644e-03,\n",
       "        3.3623093e-01],\n",
       "       [9.9965811e-01, 9.3900967e-01, 3.0559276e-03, 4.0207192e-02,\n",
       "        1.8510675e-02],\n",
       "       ...,\n",
       "       [2.0241037e-01, 9.8987877e-01, 1.5433159e-04, 4.8612203e-02,\n",
       "        9.1597050e-01],\n",
       "       [9.9443638e-01, 9.9909961e-01, 9.8552716e-01, 1.1944144e-05,\n",
       "        9.8501843e-01],\n",
       "       [9.9912339e-01, 4.8892325e-01, 1.0000000e+00, 8.4167169e-03,\n",
       "        6.0977685e-01]], dtype=float32)"
      ]
     },
     "execution_count": 6,
     "metadata": {},
     "output_type": "execute_result"
    }
   ],
   "source": [
    "algo.env_params.reward_probs"
   ]
  },
  {
   "cell_type": "code",
   "execution_count": 7,
   "id": "85277973",
   "metadata": {},
   "outputs": [
    {
     "name": "stderr",
     "output_type": "stream",
     "text": [
      "/Users/chanb/research/ualberta/sandbox/rejax/.venv/lib/python3.10/site-packages/jax/_src/numpy/array_methods.py:122: UserWarning: Explicitly requested dtype <class 'jax.numpy.int64'> requested in astype is not available, and will be truncated to dtype int32. To enable more dtypes, set the jax_enable_x64 configuration option or the JAX_ENABLE_X64 shell environment variable. See https://github.com/jax-ml/jax#current-gotchas for more.\n",
      "  return lax_numpy.astype(self, dtype, copy=copy, device=device)\n"
     ]
    },
    {
     "name": "stdout",
     "output_type": "stream",
     "text": [
      "None\n"
     ]
    }
   ],
   "source": [
    "vmap_train = jax.jit(jax.vmap(algo_cls.train, in_axes=(0, 0)))\n",
    "ts, (_, returns) = vmap_train(algo, keys)\n",
    "returns.block_until_ready()\n",
    "\n",
    "print(None)"
   ]
  },
  {
   "cell_type": "code",
   "execution_count": 8,
   "id": "2dc2cf47",
   "metadata": {},
   "outputs": [
    {
     "data": {
      "text/plain": [
       "Array([1.        , 0.47      , 1.        , ..., 0.98499995, 1.        ,\n",
       "       1.        ], dtype=float32)"
      ]
     },
     "execution_count": 8,
     "metadata": {},
     "output_type": "execute_result"
    }
   ],
   "source": [
    "jax.vmap(lambda x: jax.numpy.mean(x, axis=-1)[-1])(returns)"
   ]
  },
  {
   "cell_type": "code",
   "execution_count": 9,
   "id": "04162a60",
   "metadata": {},
   "outputs": [
    {
     "data": {
      "text/plain": [
       "Array([1, 1, 0, ..., 1, 1, 2], dtype=int32)"
      ]
     },
     "execution_count": 9,
     "metadata": {},
     "output_type": "execute_result"
    }
   ],
   "source": [
    "np.argmax(env_params, axis=-1)"
   ]
  },
  {
   "cell_type": "code",
   "execution_count": 10,
   "id": "a56a578e",
   "metadata": {},
   "outputs": [
    {
     "data": {
      "text/plain": [
       "Array([[1, 1, 0, ..., 1, 1, 2]], dtype=int32)"
      ]
     },
     "execution_count": 10,
     "metadata": {},
     "output_type": "execute_result"
    }
   ],
   "source": [
    "np.argmax(ts.agent_ts.params[\"params\"][\"counts\"], axis=-1).T"
   ]
  },
  {
   "cell_type": "code",
   "execution_count": 11,
   "id": "2fd3d1a4",
   "metadata": {},
   "outputs": [
    {
     "data": {
      "text/plain": [
       "Array([[1, 1, 0, ..., 1, 1, 2]], dtype=int32)"
      ]
     },
     "execution_count": 11,
     "metadata": {},
     "output_type": "execute_result"
    }
   ],
   "source": [
    "np.argmax(ts.agent_ts.params[\"params\"][\"q_values\"], axis=-1).T"
   ]
  },
  {
   "cell_type": "code",
   "execution_count": 12,
   "id": "75c0808c",
   "metadata": {},
   "outputs": [
    {
     "name": "stdout",
     "output_type": "stream",
     "text": [
      "{'params': {'counts': Array([[[3188., 5757.,  273.,   17.,  765.]],\n",
      "\n",
      "       [[ 788., 8222.,   77.,   81.,  832.]],\n",
      "\n",
      "       [[8334., 1613.,   17.,   19.,   17.]],\n",
      "\n",
      "       ...,\n",
      "\n",
      "       [[  34., 8665.,   18.,   20., 1263.]],\n",
      "\n",
      "       [[2661., 3013., 2247.,   16., 2063.]],\n",
      "\n",
      "       [[4885.,   57., 4986.,   17.,   55.]]], dtype=float32), 'q_values': Array([[[0.9805517 , 1.        , 0.7948715 , 0.        , 0.9006534 ]],\n",
      "\n",
      "       [[0.33629432, 0.44234985, 0.        , 0.01234568, 0.3401443 ]],\n",
      "\n",
      "       [[0.9996283 , 0.93924385, 0.        , 0.05263158, 0.        ]],\n",
      "\n",
      "       ...,\n",
      "\n",
      "       [[0.29411766, 0.9893836 , 0.        , 0.05      , 0.9144896 ]],\n",
      "\n",
      "       [[0.993987  , 0.9990052 , 0.98664886, 0.        , 0.9825496 ]],\n",
      "\n",
      "       [[0.99938   , 0.491228  , 1.        , 0.        , 0.4727273 ]]],      dtype=float32), 'timesteps': Array([10000., 10000., 10000., ..., 10000., 10000., 10000.], dtype=float32)}}\n"
     ]
    }
   ],
   "source": [
    "jax.debug.print(\"{x}\", x=ts.agent_ts.params)"
   ]
  },
  {
   "cell_type": "code",
   "execution_count": 14,
   "id": "c03d5c05",
   "metadata": {},
   "outputs": [],
   "source": [
    "pickle.dump(\n",
    "    {\n",
    "        \"buffer\": ts.store_buffer.__dict__,\n",
    "        \"algorithm\": {\n",
    "            \"algo\": algo_name,\n",
    "            **{k: v for k, v in config.items() if k != \"env\"},\n",
    "        },\n",
    "        \"env\": type(config[\"env\"]).__name__,\n",
    "        \"env_params\": env_params,\n",
    "    },\n",
    "    open(\"learning_hist-{}.dill\".format(algo_name), \"wb\"),\n",
    ")"
   ]
  },
  {
   "cell_type": "code",
   "execution_count": null,
   "id": "dce6a2b6",
   "metadata": {},
   "outputs": [],
   "source": [
    "for env_returns in returns:\n",
    "    xrange = np.arange(len(env_returns)) * config[\"eval_freq\"]\n",
    "    mean = np.mean(env_returns, axis=-1)\n",
    "    std = np.std(env_returns, axis=-1) / np.sqrt(env_returns.shape[-1])\n",
    "    plt.plot(xrange, mean)\n",
    "    plt.fill_between(xrange, mean - std, mean + std, alpha=0.2)\n",
    "plt.show()\n"
   ]
  }
 ],
 "metadata": {
  "kernelspec": {
   "display_name": ".venv",
   "language": "python",
   "name": "python3"
  },
  "language_info": {
   "codemirror_mode": {
    "name": "ipython",
    "version": 3
   },
   "file_extension": ".py",
   "mimetype": "text/x-python",
   "name": "python",
   "nbconvert_exporter": "python",
   "pygments_lexer": "ipython3",
   "version": "3.10.14"
  }
 },
 "nbformat": 4,
 "nbformat_minor": 5
}
