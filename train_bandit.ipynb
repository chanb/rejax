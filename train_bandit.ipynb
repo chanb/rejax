{
 "cells": [
  {
   "cell_type": "code",
   "execution_count": null,
   "id": "b257af34",
   "metadata": {},
   "outputs": [],
   "source": [
    "from src.rejax.envs.bernoulli_bandit import BernoulliBandit, EnvParams\n",
    "from rejax import get_algo\n",
    "from rejax.evaluate import evaluate\n",
    "\n",
    "import _pickle as pickle\n",
    "import jax\n",
    "import jax.numpy as jnp\n",
    "import matplotlib.pyplot as plt\n",
    "import numpy as np\n",
    "import yaml"
   ]
  },
  {
   "cell_type": "code",
   "execution_count": null,
   "id": "19ef8fb6",
   "metadata": {},
   "outputs": [],
   "source": [
    "config_path = \"./configs/custom/bandit.yaml\"\n",
    "\n",
    "with open(config_path, \"r\") as f:\n",
    "    config = yaml.safe_load(f.read())"
   ]
  },
  {
   "cell_type": "code",
   "execution_count": null,
   "id": "f8ebb324",
   "metadata": {},
   "outputs": [],
   "source": [
    "algo_name = \"ucb\"\n",
    "seed_id = 42\n",
    "num_seeds = 10000\n",
    "num_arms = 5\n",
    "\n",
    "key = jax.random.PRNGKey(seed_id)\n",
    "keys = jax.random.split(key, num_seeds)\n",
    "config = config[algo_name]"
   ]
  },
  {
   "cell_type": "code",
   "execution_count": null,
   "id": "de994d76",
   "metadata": {},
   "outputs": [],
   "source": [
    "config"
   ]
  },
  {
   "cell_type": "code",
   "execution_count": null,
   "id": "7930724f",
   "metadata": {},
   "outputs": [],
   "source": [
    "env = BernoulliBandit()\n",
    "config[\"env\"] = env\n",
    "\n",
    "env_params = jax.random.beta(key, a=0.2, b=0.2, shape=(num_seeds, num_arms))\n",
    "\n",
    "algo_cls = get_algo(algo_name)\n",
    "algo = jax.vmap(\n",
    "    lambda x: algo_cls.create(\n",
    "        **config,\n",
    "        env_params=EnvParams(reward_probs=x),\n",
    "    )\n",
    ")(\n",
    "    env_params\n",
    ")\n",
    "\n",
    "\n",
    "def eval_callback(algo, ts, rng):\n",
    "    act = algo.make_act(ts)\n",
    "    max_steps = algo.env_params.max_steps_in_episode\n",
    "    return evaluate(act, rng, env, algo.env_params, 200, max_steps)\n",
    "\n",
    "algo = algo.replace(\n",
    "    eval_callback=eval_callback\n",
    ")"
   ]
  },
  {
   "cell_type": "code",
   "execution_count": null,
   "id": "598e400a",
   "metadata": {},
   "outputs": [],
   "source": [
    "algo.env_params.reward_probs"
   ]
  },
  {
   "cell_type": "code",
   "execution_count": null,
   "id": "85277973",
   "metadata": {},
   "outputs": [],
   "source": [
    "vmap_train = jax.jit(jax.vmap(algo_cls.train, in_axes=(0, 0)))\n",
    "ts, (_, returns) = vmap_train(algo, keys)\n",
    "returns.block_until_ready()\n",
    "\n",
    "print(None)"
   ]
  },
  {
   "cell_type": "code",
   "execution_count": null,
   "id": "2dc2cf47",
   "metadata": {},
   "outputs": [],
   "source": [
    "jax.vmap(lambda x: jax.numpy.mean(x, axis=-1)[-1])(returns)"
   ]
  },
  {
   "cell_type": "code",
   "execution_count": null,
   "id": "04162a60",
   "metadata": {},
   "outputs": [],
   "source": [
    "np.argmax(env_params, axis=-1)"
   ]
  },
  {
   "cell_type": "code",
   "execution_count": null,
   "id": "a56a578e",
   "metadata": {},
   "outputs": [],
   "source": [
    "np.argmax(ts.agent_ts.params[\"params\"][\"counts\"], axis=-1).T"
   ]
  },
  {
   "cell_type": "code",
   "execution_count": null,
   "id": "2fd3d1a4",
   "metadata": {},
   "outputs": [],
   "source": [
    "np.argmax(ts.agent_ts.params[\"params\"][\"q_values\"], axis=-1).T"
   ]
  },
  {
   "cell_type": "code",
   "execution_count": null,
   "id": "75c0808c",
   "metadata": {},
   "outputs": [],
   "source": [
    "jax.debug.print(\"{x}\", x=ts.agent_ts.params)"
   ]
  },
  {
   "cell_type": "code",
   "execution_count": null,
   "id": "c03d5c05",
   "metadata": {},
   "outputs": [],
   "source": [
    "pickle.dump(\n",
    "    {\n",
    "        \"buffer\": ts.store_buffer.__dict__,\n",
    "        \"algorithm\": {\n",
    "            \"algo\": algo_name,\n",
    "            **{k: v for k, v in config.items() if k != \"env\"},\n",
    "        },\n",
    "        \"env\": type(config[\"env\"]).__name__,\n",
    "        \"env_params\": env_params,\n",
    "    },\n",
    "    open(\"learning_hist-{}.pkl\".format(algo_name), \"wb\"),\n",
    ")"
   ]
  },
  {
   "cell_type": "code",
   "execution_count": null,
   "id": "331037a2",
   "metadata": {},
   "outputs": [],
   "source": [
    "assert 0"
   ]
  },
  {
   "cell_type": "code",
   "execution_count": null,
   "id": "dce6a2b6",
   "metadata": {},
   "outputs": [],
   "source": [
    "for env_returns in returns:\n",
    "    xrange = np.arange(len(env_returns)) * config[\"eval_freq\"]\n",
    "    mean = np.mean(env_returns, axis=-1)\n",
    "    std = np.std(env_returns, axis=-1) / np.sqrt(env_returns.shape[-1])\n",
    "    plt.plot(xrange, mean)\n",
    "    plt.fill_between(xrange, mean - std, mean + std, alpha=0.2)\n",
    "plt.show()\n"
   ]
  },
  {
   "cell_type": "code",
   "execution_count": null,
   "id": "fbadc869",
   "metadata": {},
   "outputs": [],
   "source": []
  }
 ],
 "metadata": {
  "kernelspec": {
   "display_name": "aaai_rejax",
   "language": "python",
   "name": "python3"
  },
  "language_info": {
   "codemirror_mode": {
    "name": "ipython",
    "version": 3
   },
   "file_extension": ".py",
   "mimetype": "text/x-python",
   "name": "python",
   "nbconvert_exporter": "python",
   "pygments_lexer": "ipython3",
   "version": "3.10.18"
  }
 },
 "nbformat": 4,
 "nbformat_minor": 5
}
