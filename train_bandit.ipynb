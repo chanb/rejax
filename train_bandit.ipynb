{
 "cells": [
  {
   "cell_type": "code",
   "execution_count": 1,
   "id": "b257af34",
   "metadata": {},
   "outputs": [],
   "source": [
    "from src.rejax.envs.bernoulli_bandit import BernoulliBandit, EnvParams\n",
    "from rejax import get_algo\n",
    "from rejax.evaluate import evaluate\n",
    "\n",
    "import jax\n",
    "import jax.numpy as jnp\n",
    "import numpy as np\n",
    "import yaml"
   ]
  },
  {
   "cell_type": "code",
   "execution_count": 2,
   "id": "19ef8fb6",
   "metadata": {},
   "outputs": [],
   "source": [
    "config_path = \"/Users/chanb/research/ualberta/sandbox/rejax/configs/custom/bandit.yaml\"\n",
    "\n",
    "with open(config_path, \"r\") as f:\n",
    "    config = yaml.safe_load(f.read())"
   ]
  },
  {
   "cell_type": "code",
   "execution_count": 3,
   "id": "f8ebb324",
   "metadata": {},
   "outputs": [],
   "source": [
    "algo_name = \"dqn\"\n",
    "seed_id = 0\n",
    "num_seeds = 2\n",
    "\n",
    "key = jax.random.PRNGKey(seed_id)\n",
    "keys = jax.random.split(key, num_seeds)\n",
    "config = config[algo_name]"
   ]
  },
  {
   "cell_type": "code",
   "execution_count": 4,
   "id": "de994d76",
   "metadata": {},
   "outputs": [
    {
     "data": {
      "text/plain": [
       "{'env': 'CartPole-v1',\n",
       " 'agent': 'DuelingQNetwork',\n",
       " 'agent_kwargs': {'activation': 'swish'},\n",
       " 'num_envs': 1,\n",
       " 'buffer_size': 50000,\n",
       " 'fill_buffer': 5000,\n",
       " 'batch_size': 100,\n",
       " 'max_grad_norm': 10,\n",
       " 'learning_rate': 0.001,\n",
       " 'num_epochs': 5,\n",
       " 'total_timesteps': 100000,\n",
       " 'eval_freq': 2500,\n",
       " 'polyak': 0.98,\n",
       " 'eps_start': 1,\n",
       " 'eps_end': 0.05,\n",
       " 'exploration_fraction': 0.5,\n",
       " 'gamma': 0.99,\n",
       " 'ddqn': True,\n",
       " 'normalize_observations': False}"
      ]
     },
     "execution_count": 4,
     "metadata": {},
     "output_type": "execute_result"
    }
   ],
   "source": [
    "config"
   ]
  },
  {
   "cell_type": "code",
   "execution_count": 5,
   "id": "7930724f",
   "metadata": {},
   "outputs": [],
   "source": [
    "env = BernoulliBandit()\n",
    "config[\"env\"] = env\n",
    "\n",
    "env_params = jnp.array([\n",
    "    [0.5, 0.5],\n",
    "    [0.1, 0.9],\n",
    "])\n",
    "\n",
    "algo_cls = get_algo(algo_name)\n",
    "algo = jax.vmap(lambda x: algo_cls.create(**config))(keys)\n",
    "algo = algo.replace(\n",
    "    env_params=algo.env_params.replace(reward_probs=env_params)\n",
    ")\n",
    "\n",
    "\n",
    "def eval_callback(algo, ts, rng):\n",
    "    act = algo.make_act(ts)\n",
    "    max_steps = algo.env_params.max_steps_in_episode\n",
    "    return evaluate(act, rng, env, algo.env_params, 128, max_steps)\n",
    "\n",
    "algo = algo.replace(\n",
    "    eval_callback=eval_callback\n",
    ")"
   ]
  },
  {
   "cell_type": "code",
   "execution_count": 6,
   "id": "598e400a",
   "metadata": {},
   "outputs": [
    {
     "data": {
      "text/plain": [
       "DQN(env=<src.rejax.envs.bernoulli_bandit.BernoulliBandit object at 0x12b51e950>, env_params=EnvParams(max_steps_in_episode=Array([1, 1], dtype=int32, weak_type=True), reward_probs=Array([[0.5, 0.5],\n",
       "       [0.1, 0.9]], dtype=float32)), eval_callback=<function eval_callback at 0x12b410160>, eval_freq=2500, skip_initial_evaluation=False, total_timesteps=100000, learning_rate=Array([0.001, 0.001], dtype=float32, weak_type=True), gamma=Array([0.99, 0.99], dtype=float32, weak_type=True), max_grad_norm=Array([10, 10], dtype=int32, weak_type=True), normalize_rewards=False, reward_normalization_discount=0.99, normalize_observations=False, target_update_freq=1, polyak=Array([0.98, 0.98], dtype=float32, weak_type=True), num_envs=1, buffer_size=50000, fill_buffer=5000, batch_size=100, eps_start=Array([1, 1], dtype=int32, weak_type=True), eps_end=Array([0.05, 0.05], dtype=float32, weak_type=True), exploration_fraction=0.5, agent=EpsilonGreedyPolicy(\n",
       "    # attributes\n",
       "    hidden_layer_sizes = (64, 64)\n",
       "    activation = silu\n",
       "    action_dim = 2\n",
       "), num_epochs=5, ddqn=Array([ True,  True], dtype=bool))"
      ]
     },
     "execution_count": 6,
     "metadata": {},
     "output_type": "execute_result"
    }
   ],
   "source": [
    "algo"
   ]
  },
  {
   "cell_type": "code",
   "execution_count": 7,
   "id": "85277973",
   "metadata": {},
   "outputs": [
    {
     "name": "stderr",
     "output_type": "stream",
     "text": [
      "/Users/chanb/research/ualberta/sandbox/rejax/.venv/lib/python3.10/site-packages/jax/_src/numpy/array_methods.py:122: UserWarning: Explicitly requested dtype <class 'jax.numpy.int64'> requested in astype is not available, and will be truncated to dtype int32. To enable more dtypes, set the jax_enable_x64 configuration option or the JAX_ENABLE_X64 shell environment variable. See https://github.com/jax-ml/jax#current-gotchas for more.\n",
      "  return lax_numpy.astype(self, dtype, copy=copy, device=device)\n"
     ]
    },
    {
     "data": {
      "text/plain": [
       "Array([[[0., 0., 0., ..., 1., 0., 1.],\n",
       "        [0., 1., 1., ..., 0., 1., 1.],\n",
       "        [1., 0., 0., ..., 1., 0., 1.],\n",
       "        ...,\n",
       "        [1., 1., 0., ..., 1., 1., 0.],\n",
       "        [0., 0., 1., ..., 0., 1., 0.],\n",
       "        [0., 0., 1., ..., 1., 0., 1.]],\n",
       "\n",
       "       [[1., 0., 1., ..., 0., 1., 1.],\n",
       "        [1., 1., 1., ..., 1., 0., 0.],\n",
       "        [1., 1., 1., ..., 0., 1., 1.],\n",
       "        ...,\n",
       "        [1., 0., 1., ..., 1., 1., 1.],\n",
       "        [0., 1., 1., ..., 1., 1., 1.],\n",
       "        [1., 1., 1., ..., 1., 1., 1.]]], dtype=float32, weak_type=True)"
      ]
     },
     "execution_count": 7,
     "metadata": {},
     "output_type": "execute_result"
    }
   ],
   "source": [
    "vmap_train = jax.jit(jax.vmap(algo_cls.train, in_axes=(0, 0)))\n",
    "ts, (_, returns) = vmap_train(algo, keys)\n",
    "returns.block_until_ready()"
   ]
  },
  {
   "cell_type": "code",
   "execution_count": 8,
   "id": "2dc2cf47",
   "metadata": {},
   "outputs": [
    {
     "data": {
      "text/plain": [
       "Array([0.5062881 , 0.86509144], dtype=float32)"
      ]
     },
     "execution_count": 8,
     "metadata": {},
     "output_type": "execute_result"
    }
   ],
   "source": [
    "jax.vmap(lambda x: jax.numpy.mean(x))(returns)"
   ]
  },
  {
   "cell_type": "code",
   "execution_count": null,
   "id": "04162a60",
   "metadata": {},
   "outputs": [],
   "source": []
  }
 ],
 "metadata": {
  "kernelspec": {
   "display_name": ".venv",
   "language": "python",
   "name": "python3"
  },
  "language_info": {
   "codemirror_mode": {
    "name": "ipython",
    "version": 3
   },
   "file_extension": ".py",
   "mimetype": "text/x-python",
   "name": "python",
   "nbconvert_exporter": "python",
   "pygments_lexer": "ipython3",
   "version": "3.10.14"
  }
 },
 "nbformat": 4,
 "nbformat_minor": 5
}
