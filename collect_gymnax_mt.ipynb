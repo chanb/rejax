{
 "cells": [
  {
   "cell_type": "code",
   "execution_count": 1,
   "id": "b257af34",
   "metadata": {},
   "outputs": [],
   "source": [
    "import os\n",
    "os.environ[\"CUDA_VISIBLE_DEVICES\"] = \"0\"\n",
    "os.environ[\"XLA_PYTHON_CLIENT_MEM_FRACTION\"] = \"0.95\"\n",
    "\n",
    "from gymnax.environments.classic_control.cartpole import EnvParams, CartPole\n",
    "from rejax import get_algo\n",
    "from rejax.evaluate import evaluate\n",
    "from tqdm.notebook import tqdm\n",
    "\n",
    "import _pickle as pickle\n",
    "import jax\n",
    "import jax.numpy as jnp\n",
    "import matplotlib.pyplot as plt\n",
    "import numpy as np\n",
    "import yaml\n"
   ]
  },
  {
   "cell_type": "code",
   "execution_count": 2,
   "id": "19ef8fb6",
   "metadata": {},
   "outputs": [],
   "source": [
    "config_path = \"./configs/custom/cartpole.yaml\"\n",
    "\n",
    "with open(config_path, \"r\") as f:\n",
    "    config = yaml.safe_load(f.read())"
   ]
  },
  {
   "cell_type": "code",
   "execution_count": 3,
   "id": "6446cd66",
   "metadata": {},
   "outputs": [],
   "source": [
    "algo_name = \"ppo\"\n",
    "config = config[algo_name]\n",
    "num_seeds = 500\n",
    "\n",
    "num_files = 5\n",
    "starting_seed_id = 0\n",
    "\n",
    "\n",
    "env = CartPole()\n",
    "config[\"env\"] = env\n",
    "max_steps_in_episode = 200"
   ]
  },
  {
   "cell_type": "code",
   "execution_count": 4,
   "id": "8cace57c",
   "metadata": {},
   "outputs": [
    {
     "data": {
      "text/plain": [
       "{'agent_kwargs': {'activation': 'tanh'},\n",
       " 'num_envs': 1,\n",
       " 'num_steps': 100,\n",
       " 'num_epochs': 5,\n",
       " 'num_minibatches': 5,\n",
       " 'learning_rate': 0.00075,\n",
       " 'max_grad_norm': 0.5,\n",
       " 'total_timesteps': 250000,\n",
       " 'eval_freq': 5000,\n",
       " 'gamma': 0.99,\n",
       " 'gae_lambda': 0.95,\n",
       " 'clip_eps': 0.2,\n",
       " 'ent_coef': 0.01,\n",
       " 'vf_coef': 0.5,\n",
       " 'buffer_size': 250000,\n",
       " 'env': <gymnax.environments.classic_control.cartpole.CartPole at 0x7680c4ac1f90>}"
      ]
     },
     "execution_count": 4,
     "metadata": {},
     "output_type": "execute_result"
    }
   ],
   "source": [
    "config"
   ]
  },
  {
   "cell_type": "code",
   "execution_count": null,
   "id": "f8ebb324",
   "metadata": {},
   "outputs": [
    {
     "data": {
      "application/vnd.jupyter.widget-view+json": {
       "model_id": "569e42edc76e4888b7ea3f308311383e",
       "version_major": 2,
       "version_minor": 0
      },
      "text/plain": [
       "  0%|          | 0/5 [00:00<?, ?it/s]"
      ]
     },
     "metadata": {},
     "output_type": "display_data"
    },
    {
     "name": "stderr",
     "output_type": "stream",
     "text": [
      "/home/bryanpu1/.conda/envs/aaai_rejax/lib/python3.10/site-packages/jax/_src/numpy/array_methods.py:122: UserWarning: Explicitly requested dtype <class 'jax.numpy.int64'> requested in astype is not available, and will be truncated to dtype int32. To enable more dtypes, set the jax_enable_x64 configuration option or the JAX_ENABLE_X64 shell environment variable. See https://github.com/jax-ml/jax#current-gotchas for more.\n",
      "  return lax_numpy.astype(self, dtype, copy=copy, device=device)\n"
     ]
    }
   ],
   "source": [
    "for file_i in tqdm(range(num_files)):\n",
    "    seed_id = starting_seed_id + file_i\n",
    "\n",
    "    key = jax.random.PRNGKey(seed_id)\n",
    "    keys = jax.random.split(key, num_seeds)\n",
    "\n",
    "    gravities = jax.random.uniform(key, shape=(num_seeds,))\n",
    "\n",
    "    algo_cls = get_algo(algo_name)\n",
    "    algo = jax.vmap(\n",
    "        lambda gravity: algo_cls.create(\n",
    "            **config,\n",
    "            env_params=EnvParams(\n",
    "                gravity=gravity,\n",
    "                max_steps_in_episode=max_steps_in_episode,\n",
    "            ),\n",
    "        )\n",
    "    )(\n",
    "        gravities\n",
    "    )\n",
    "\n",
    "\n",
    "    def eval_callback(algo, ts, rng):\n",
    "        act = algo.make_act(ts)\n",
    "        return evaluate(act, rng, env, algo.env_params, 50, max_steps_in_episode)\n",
    "\n",
    "    def get_returns(algo, ts, rng):\n",
    "        eval_info = eval_callback(algo, ts, rng)\n",
    "        return eval_info.length, eval_info.return_\n",
    "\n",
    "    algo = algo.replace(\n",
    "        eval_callback=get_returns\n",
    "    )\n",
    "\n",
    "    # Train\n",
    "    vmap_train = jax.jit(jax.vmap(algo_cls.train, in_axes=(0, 0)))\n",
    "    ts, (_, returns) = vmap_train(algo, keys)\n",
    "    returns.block_until_ready()\n",
    "\n",
    "    # \"Expert data\" from last PPO iteration\n",
    "    eval_info = jax.vmap(eval_callback)(algo, ts, keys)\n",
    "\n",
    "    # Save data\n",
    "    pickle.dump(\n",
    "        {\n",
    "            \"buffer_info\": {k: v for k, v in ts.store_buffer.__dict__.items() if k != \"data\"},\n",
    "            \"data\": {k: np.array(v) for k, v in ts.store_buffer.data._asdict().items()},\n",
    "            \"algorithm\": {\n",
    "                \"algo\": algo_name,\n",
    "                **{k: v for k, v in config.items() if k != \"env\"},\n",
    "            },\n",
    "            \"env\": type(config[\"env\"]).__name__,\n",
    "            \"env_params\": np.array(gravities),\n",
    "            \"observation_space\": env.observation_space(EnvParams()),\n",
    "            \"action_space\": env.action_space(EnvParams()),\n",
    "            \"expert_data\": eval_info.trajectory\n",
    "        },\n",
    "        open(\"{}/learning_hist-cartpole-num_tasks_{}-seed_{}-{}.pkl\".format(\n",
    "            \"/home/bryanpu1/projects/aaai_2026/data/cartpole\",\n",
    "            num_seeds,\n",
    "            seed_id,\n",
    "            algo_name,\n",
    "            ), \"wb\"),\n",
    "    )\n"
   ]
  },
  {
   "cell_type": "code",
   "execution_count": null,
   "id": "331037a2",
   "metadata": {},
   "outputs": [],
   "source": [
    "assert 0"
   ]
  },
  {
   "cell_type": "code",
   "execution_count": null,
   "id": "baa1776e",
   "metadata": {},
   "outputs": [],
   "source": [
    "regrets = (np.arange(ts.store_buffer.data.reward.shape[1])[None] + 1) * np.max(env_params, axis=-1, keepdims=True) - np.cumsum(ts.store_buffer.data.reward, axis=-1)\n",
    "\n",
    "for regret in regrets[:5]:\n",
    "    xrange = np.arange(len(regret))\n",
    "    plt.plot(xrange, regret)\n",
    "plt.show()\n"
   ]
  },
  {
   "cell_type": "code",
   "execution_count": null,
   "id": "2cd167f2",
   "metadata": {},
   "outputs": [],
   "source": [
    "for env_returns, env_param in zip(returns[:2], env_params):\n",
    "    xrange = np.arange(len(env_returns)) * config[\"eval_freq\"]\n",
    "    regret = np.max(env_param, axis=-1) - env_returns\n",
    "    print(regret.shape)\n",
    "    mean = np.mean(regret, axis=-1)\n",
    "    std = np.std(regret, axis=-1) / np.sqrt(regret.shape[-1])\n",
    "    plt.plot(xrange, mean)\n",
    "    plt.fill_between(xrange, mean - std, mean + std, alpha=0.2)\n",
    "plt.show()\n"
   ]
  },
  {
   "cell_type": "code",
   "execution_count": null,
   "id": "dce6a2b6",
   "metadata": {},
   "outputs": [],
   "source": [
    "for env_returns in returns[:10]:\n",
    "    xrange = np.arange(len(env_returns)) * config[\"eval_freq\"]\n",
    "    mean = np.mean(env_returns, axis=-1)\n",
    "    std = np.std(env_returns, axis=-1) / np.sqrt(env_returns.shape[-1])\n",
    "    plt.plot(xrange, mean)\n",
    "    plt.fill_between(xrange, mean - std, mean + std, alpha=0.2)\n",
    "plt.show()\n"
   ]
  },
  {
   "cell_type": "code",
   "execution_count": null,
   "id": "fbadc869",
   "metadata": {},
   "outputs": [],
   "source": []
  }
 ],
 "metadata": {
  "kernelspec": {
   "display_name": "aaai_rejax",
   "language": "python",
   "name": "python3"
  },
  "language_info": {
   "codemirror_mode": {
    "name": "ipython",
    "version": 3
   },
   "file_extension": ".py",
   "mimetype": "text/x-python",
   "name": "python",
   "nbconvert_exporter": "python",
   "pygments_lexer": "ipython3",
   "version": "3.10.18"
  }
 },
 "nbformat": 4,
 "nbformat_minor": 5
}
