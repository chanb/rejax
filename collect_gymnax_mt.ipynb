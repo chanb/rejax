{
 "cells": [
  {
   "cell_type": "code",
   "execution_count": null,
   "id": "b257af34",
   "metadata": {},
   "outputs": [],
   "source": [
    "import os\n",
    "os.environ[\"CUDA_VISIBLE_DEVICES\"] = \"2\"\n",
    "os.environ[\"XLA_PYTHON_CLIENT_MEM_FRACTION\"] = \"0.95\"\n",
    "\n",
    "from gymnax.environments.classic_control.cartpole import EnvParams, CartPole\n",
    "from rejax import get_algo\n",
    "from rejax.evaluate import evaluate\n",
    "\n",
    "import _pickle as pickle\n",
    "import jax\n",
    "import jax.numpy as jnp\n",
    "import matplotlib.pyplot as plt\n",
    "import numpy as np\n",
    "import yaml"
   ]
  },
  {
   "cell_type": "code",
   "execution_count": null,
   "id": "19ef8fb6",
   "metadata": {},
   "outputs": [],
   "source": [
    "config_path = \"./configs/custom/cartpole.yaml\"\n",
    "\n",
    "with open(config_path, \"r\") as f:\n",
    "    config = yaml.safe_load(f.read())"
   ]
  },
  {
   "cell_type": "code",
   "execution_count": null,
   "id": "f8ebb324",
   "metadata": {},
   "outputs": [],
   "source": [
    "algo_name = \"ppo\"\n",
    "seed_id = 42\n",
    "num_seeds = 500\n",
    "\n",
    "key = jax.random.PRNGKey(seed_id)\n",
    "keys = jax.random.split(key, num_seeds)\n",
    "config = config[algo_name]"
   ]
  },
  {
   "cell_type": "code",
   "execution_count": null,
   "id": "de994d76",
   "metadata": {},
   "outputs": [],
   "source": [
    "config"
   ]
  },
  {
   "cell_type": "code",
   "execution_count": null,
   "id": "7930724f",
   "metadata": {},
   "outputs": [],
   "source": [
    "env = CartPole()\n",
    "config[\"env\"] = env\n",
    "\n",
    "gravities = jax.random.uniform(key, shape=(num_seeds,))\n",
    "\n",
    "algo_cls = get_algo(algo_name)\n",
    "algo = jax.vmap(\n",
    "    lambda gravity: algo_cls.create(\n",
    "        **config,\n",
    "        env_params=EnvParams(\n",
    "            gravity=gravity,\n",
    "            max_steps_in_episode=200,\n",
    "        ),\n",
    "    )\n",
    ")(\n",
    "    gravities\n",
    ")\n",
    "\n",
    "\n",
    "def eval_callback(algo, ts, rng):\n",
    "    act = algo.make_act(ts)\n",
    "    max_steps = algo.env_params.max_steps_in_episode\n",
    "    return evaluate(act, rng, env, algo.env_params, 50, max_steps)\n",
    "\n",
    "algo = algo.replace(\n",
    "    eval_callback=eval_callback\n",
    ")"
   ]
  },
  {
   "cell_type": "code",
   "execution_count": null,
   "id": "85277973",
   "metadata": {},
   "outputs": [],
   "source": [
    "vmap_train = jax.jit(jax.vmap(algo_cls.train, in_axes=(0, 0)))\n",
    "ts, (_, returns) = vmap_train(algo, keys)\n",
    "returns.block_until_ready()\n",
    "\n",
    "print(None)"
   ]
  },
  {
   "cell_type": "code",
   "execution_count": null,
   "id": "c03d5c05",
   "metadata": {},
   "outputs": [],
   "source": [
    "pickle.dump(\n",
    "    {\n",
    "        \"buffer_info\": {k: v for k, v in ts.store_buffer.__dict__.items() if k != \"data\"},\n",
    "        \"data\": {k: np.array(v) for k, v in ts.store_buffer.data._asdict().items()},\n",
    "        \"algorithm\": {\n",
    "            \"algo\": algo_name,\n",
    "            **{k: v for k, v in config.items() if k != \"env\"},\n",
    "        },\n",
    "        \"env\": type(config[\"env\"]).__name__,\n",
    "        \"env_params\": gravities,\n",
    "        \"observation_space\": env.observation_space(EnvParams()),\n",
    "        \"action_space\": env.action_space(EnvParams())\n",
    "    },\n",
    "    open(\"learning_hist-cartpole-num_tasks_{}-seed_{}-{}.pkl\".format(num_seeds, seed_id, algo_name), \"wb\"),\n",
    ")"
   ]
  },
  {
   "cell_type": "code",
   "execution_count": null,
   "id": "331037a2",
   "metadata": {},
   "outputs": [],
   "source": [
    "assert 0"
   ]
  },
  {
   "cell_type": "code",
   "execution_count": null,
   "id": "baa1776e",
   "metadata": {},
   "outputs": [],
   "source": [
    "regrets = (np.arange(ts.store_buffer.data.reward.shape[1])[None] + 1) * np.max(env_params, axis=-1, keepdims=True) - np.cumsum(ts.store_buffer.data.reward, axis=-1)\n",
    "\n",
    "for regret in regrets[:5]:\n",
    "    xrange = np.arange(len(regret))\n",
    "    plt.plot(xrange, regret)\n",
    "plt.show()\n"
   ]
  },
  {
   "cell_type": "code",
   "execution_count": null,
   "id": "2cd167f2",
   "metadata": {},
   "outputs": [],
   "source": [
    "for env_returns, env_param in zip(returns[:2], env_params):\n",
    "    xrange = np.arange(len(env_returns)) * config[\"eval_freq\"]\n",
    "    regret = np.max(env_param, axis=-1) - env_returns\n",
    "    print(regret.shape)\n",
    "    mean = np.mean(regret, axis=-1)\n",
    "    std = np.std(regret, axis=-1) / np.sqrt(regret.shape[-1])\n",
    "    plt.plot(xrange, mean)\n",
    "    plt.fill_between(xrange, mean - std, mean + std, alpha=0.2)\n",
    "plt.show()\n"
   ]
  },
  {
   "cell_type": "code",
   "execution_count": null,
   "id": "dce6a2b6",
   "metadata": {},
   "outputs": [],
   "source": [
    "for env_returns in returns[:10]:\n",
    "    xrange = np.arange(len(env_returns)) * config[\"eval_freq\"]\n",
    "    mean = np.mean(env_returns, axis=-1)\n",
    "    std = np.std(env_returns, axis=-1) / np.sqrt(env_returns.shape[-1])\n",
    "    plt.plot(xrange, mean)\n",
    "    plt.fill_between(xrange, mean - std, mean + std, alpha=0.2)\n",
    "plt.show()\n"
   ]
  },
  {
   "cell_type": "code",
   "execution_count": null,
   "id": "fbadc869",
   "metadata": {},
   "outputs": [],
   "source": []
  }
 ],
 "metadata": {
  "kernelspec": {
   "display_name": "aaai_rejax",
   "language": "python",
   "name": "python3"
  },
  "language_info": {
   "codemirror_mode": {
    "name": "ipython",
    "version": 3
   },
   "file_extension": ".py",
   "mimetype": "text/x-python",
   "name": "python",
   "nbconvert_exporter": "python",
   "pygments_lexer": "ipython3",
   "version": "3.10.18"
  }
 },
 "nbformat": 4,
 "nbformat_minor": 5
}
